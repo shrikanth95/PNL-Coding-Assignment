{
 "cells": [
  {
   "cell_type": "code",
   "execution_count": 128,
   "metadata": {},
   "outputs": [],
   "source": [
    "import pandas as pd\n",
    "import dropbox \n",
    "from dropbox.exceptions import AuthError\n",
    "from pathlib import Path\n",
    "import time\n",
    "import os\n",
    "import updown\n",
    "import csv\n",
    "import math\n",
    "import numpy as np\n",
    "import random\n",
    "import nibabel as nib\n",
    "import matplotlib.pyplot as plt\n",
    "import datetime\n"
   ]
  },
  {
   "cell_type": "markdown",
   "metadata": {},
   "source": [
    "## PNL Lab - Data Engineer Coding Assignment\n",
    "### Helper functions"
   ]
  },
  {
   "cell_type": "code",
   "execution_count": 142,
   "metadata": {},
   "outputs": [],
   "source": [
    "from dropbox.auth import AuthError\n",
    "\n",
    "\n",
    "DROPBOX_TOKEN = 'sl.BPmLXPvB6S7GmhSpdI2S53AKnB0PJB2xWqxgXTi7KAUrm8DncWQN0IB1GJzysJjqucSJSS6JNxAzRzLfkrq_7rF81sXRzwOq-b7vrgHfljW1B1_m2fGpfTdMDTFjoUcSnS5qsW9a'\n",
    "\n",
    "# Connect to the Dropbox API\n",
    "def dropbox_connection():\n",
    "    \"\"\"Establish connection to Dropbox\"\"\"\n",
    "    try:\n",
    "        dbx = dropbox.Dropbox(DROPBOX_TOKEN)\n",
    "    except AuthError as e:\n",
    "        print(\"Error: Problem connecting using the given token.\")\n",
    "    return dbx\n",
    "\n",
    "def getCSV(res) -> pd:\n",
    "    \"\"\"Function to extract Pandas dataframe from API call\"\"\"\n",
    "    enrollmentData = res.content.decode().splitlines() # Organize data\n",
    "    fileColumns = enrollmentData[0].split(',')\n",
    "    enrollmentData = [x.split(',') for x in enrollmentData[1:len(enrollmentData)]] # Skip the first row with column names\n",
    "    p = pd.DataFrame(enrollmentData)\n",
    "    p.columns = fileColumns\n",
    "    return(p)\n",
    "def show_slices(slices):\n",
    "   \"\"\"Function to display row of image slices\"\"\"\n",
    "   fig, axes = plt.subplots(1, len(slices))\n",
    "   for i, slice in enumerate(slices):\n",
    "       axes[i].imshow(slice.T, cmap=\"gray\", origin=\"lower\")\n",
    "    \n",
    "    "
   ]
  },
  {
   "cell_type": "markdown",
   "metadata": {},
   "source": [
    "#### Task 1: API to download a file from Dropbox"
   ]
  },
  {
   "cell_type": "code",
   "execution_count": 144,
   "metadata": {},
   "outputs": [],
   "source": [
    "# Establish connection\n",
    "dbx = dropbox_connection()"
   ]
  },
  {
   "cell_type": "code",
   "execution_count": 101,
   "metadata": {},
   "outputs": [
    {
     "data": {
      "text/html": [
       "<div>\n",
       "<style scoped>\n",
       "    .dataframe tbody tr th:only-of-type {\n",
       "        vertical-align: middle;\n",
       "    }\n",
       "\n",
       "    .dataframe tbody tr th {\n",
       "        vertical-align: top;\n",
       "    }\n",
       "\n",
       "    .dataframe thead th {\n",
       "        text-align: right;\n",
       "    }\n",
       "</style>\n",
       "<table border=\"1\" class=\"dataframe\">\n",
       "  <thead>\n",
       "    <tr style=\"text-align: right;\">\n",
       "      <th></th>\n",
       "      <th>site ID</th>\n",
       "      <th>date of consent</th>\n",
       "      <th>cohort</th>\n",
       "      <th>birth date</th>\n",
       "    </tr>\n",
       "  </thead>\n",
       "  <tbody>\n",
       "    <tr>\n",
       "      <th>0</th>\n",
       "      <td>BWH</td>\n",
       "      <td>1/1/2020</td>\n",
       "      <td>CHR</td>\n",
       "      <td>1990-01-01</td>\n",
       "    </tr>\n",
       "    <tr>\n",
       "      <th>1</th>\n",
       "      <td>BWH</td>\n",
       "      <td>1/2/2020</td>\n",
       "      <td>CHR</td>\n",
       "      <td>1989-01-02</td>\n",
       "    </tr>\n",
       "    <tr>\n",
       "      <th>2</th>\n",
       "      <td>BWH</td>\n",
       "      <td>1/2/2020</td>\n",
       "      <td>HC</td>\n",
       "      <td>1998-01-03</td>\n",
       "    </tr>\n",
       "    <tr>\n",
       "      <th>3</th>\n",
       "      <td>BWH</td>\n",
       "      <td>1/2/2020</td>\n",
       "      <td>HC</td>\n",
       "      <td>1987-01-04</td>\n",
       "    </tr>\n",
       "    <tr>\n",
       "      <th>4</th>\n",
       "      <td>BWH</td>\n",
       "      <td>1/2/2020</td>\n",
       "      <td>CHR</td>\n",
       "      <td>1986-01-05</td>\n",
       "    </tr>\n",
       "  </tbody>\n",
       "</table>\n",
       "</div>"
      ],
      "text/plain": [
       "  site ID date of consent cohort  birth date\n",
       "0     BWH        1/1/2020    CHR  1990-01-01\n",
       "1     BWH        1/2/2020    CHR  1989-01-02\n",
       "2     BWH        1/2/2020     HC  1998-01-03\n",
       "3     BWH        1/2/2020     HC  1987-01-04\n",
       "4     BWH        1/2/2020    CHR  1986-01-05"
      ]
     },
     "execution_count": 101,
     "metadata": {},
     "output_type": "execute_result"
    }
   ],
   "source": [
    "# Task 1: Download\n",
    "dbx.check_and_refresh_access_token()\n",
    "# Make API call\n",
    "metadata, res = dbx.files_download(path='/recruitment_project/enroll_data.csv')\n",
    "# Extract pandas dataframe \n",
    "enrollmentData = getCSV(res)\n",
    "enrollmentData.head()"
   ]
  },
  {
   "cell_type": "markdown",
   "metadata": {},
   "source": [
    "#### Task 1: Anonymize"
   ]
  },
  {
   "cell_type": "code",
   "execution_count": 110,
   "metadata": {},
   "outputs": [
    {
     "data": {
      "text/html": [
       "<div>\n",
       "<style scoped>\n",
       "    .dataframe tbody tr th:only-of-type {\n",
       "        vertical-align: middle;\n",
       "    }\n",
       "\n",
       "    .dataframe tbody tr th {\n",
       "        vertical-align: top;\n",
       "    }\n",
       "\n",
       "    .dataframe thead th {\n",
       "        text-align: right;\n",
       "    }\n",
       "</style>\n",
       "<table border=\"1\" class=\"dataframe\">\n",
       "  <thead>\n",
       "    <tr style=\"text-align: right;\">\n",
       "      <th></th>\n",
       "      <th>site ID</th>\n",
       "      <th>date of consent</th>\n",
       "      <th>cohort</th>\n",
       "      <th>birth date</th>\n",
       "      <th>age</th>\n",
       "      <th>days_offset</th>\n",
       "      <th>date_of_consent_anon</th>\n",
       "    </tr>\n",
       "  </thead>\n",
       "  <tbody>\n",
       "    <tr>\n",
       "      <th>0</th>\n",
       "      <td>BWH</td>\n",
       "      <td>2020-01-01</td>\n",
       "      <td>CHR</td>\n",
       "      <td>1990-01-01</td>\n",
       "      <td>29.0</td>\n",
       "      <td>41915</td>\n",
       "      <td>1905-03-30</td>\n",
       "    </tr>\n",
       "    <tr>\n",
       "      <th>1</th>\n",
       "      <td>BWH</td>\n",
       "      <td>2020-01-02</td>\n",
       "      <td>CHR</td>\n",
       "      <td>1989-01-02</td>\n",
       "      <td>30.0</td>\n",
       "      <td>42562</td>\n",
       "      <td>1903-06-23</td>\n",
       "    </tr>\n",
       "    <tr>\n",
       "      <th>2</th>\n",
       "      <td>BWH</td>\n",
       "      <td>2020-01-02</td>\n",
       "      <td>HC</td>\n",
       "      <td>1998-01-03</td>\n",
       "      <td>21.0</td>\n",
       "      <td>46836</td>\n",
       "      <td>1891-10-09</td>\n",
       "    </tr>\n",
       "    <tr>\n",
       "      <th>3</th>\n",
       "      <td>BWH</td>\n",
       "      <td>2020-01-02</td>\n",
       "      <td>HC</td>\n",
       "      <td>1987-01-04</td>\n",
       "      <td>32.0</td>\n",
       "      <td>42054</td>\n",
       "      <td>1904-11-12</td>\n",
       "    </tr>\n",
       "    <tr>\n",
       "      <th>4</th>\n",
       "      <td>BWH</td>\n",
       "      <td>2020-01-02</td>\n",
       "      <td>CHR</td>\n",
       "      <td>1986-01-05</td>\n",
       "      <td>33.0</td>\n",
       "      <td>36960</td>\n",
       "      <td>1918-10-24</td>\n",
       "    </tr>\n",
       "  </tbody>\n",
       "</table>\n",
       "</div>"
      ],
      "text/plain": [
       "  site ID date of consent cohort birth date   age  days_offset  \\\n",
       "0     BWH      2020-01-01    CHR 1990-01-01  29.0        41915   \n",
       "1     BWH      2020-01-02    CHR 1989-01-02  30.0        42562   \n",
       "2     BWH      2020-01-02     HC 1998-01-03  21.0        46836   \n",
       "3     BWH      2020-01-02     HC 1987-01-04  32.0        42054   \n",
       "4     BWH      2020-01-02    CHR 1986-01-05  33.0        36960   \n",
       "\n",
       "  date_of_consent_anon  \n",
       "0           1905-03-30  \n",
       "1           1903-06-23  \n",
       "2           1891-10-09  \n",
       "3           1904-11-12  \n",
       "4           1918-10-24  "
      ]
     },
     "execution_count": 110,
     "metadata": {},
     "output_type": "execute_result"
    }
   ],
   "source": [
    "\n",
    "## Convert dates into appropriate columns\n",
    "enrollmentData['date of consent'] = pd.to_datetime(enrollmentData['date of consent'])\n",
    "enrollmentData['birth date'] = pd.to_datetime(enrollmentData['birth date'])\n",
    "enrollmentData['age'] = np.floor((enrollmentData['date of consent'] - enrollmentData['birth date'])/np.timedelta64(1,\"Y\"))\n",
    "\n",
    "# initilize a column for holding the offset in days\n",
    "enrollmentData['days_offset'] = np.random.randint(35000, 50000, len(enrollmentData))\n",
    "enrollmentData['date_of_consent_anon'] = enrollmentData['date of consent'] - enrollmentData['days_offset'].astype('timedelta64[D]')\n",
    "enrollmentData.head()\n"
   ]
  },
  {
   "cell_type": "code",
   "execution_count": 121,
   "metadata": {},
   "outputs": [
    {
     "data": {
      "text/html": [
       "<div>\n",
       "<style scoped>\n",
       "    .dataframe tbody tr th:only-of-type {\n",
       "        vertical-align: middle;\n",
       "    }\n",
       "\n",
       "    .dataframe tbody tr th {\n",
       "        vertical-align: top;\n",
       "    }\n",
       "\n",
       "    .dataframe thead th {\n",
       "        text-align: right;\n",
       "    }\n",
       "</style>\n",
       "<table border=\"1\" class=\"dataframe\">\n",
       "  <thead>\n",
       "    <tr style=\"text-align: right;\">\n",
       "      <th></th>\n",
       "      <th>site ID</th>\n",
       "      <th>cohort</th>\n",
       "      <th>age</th>\n",
       "      <th>date of consent</th>\n",
       "    </tr>\n",
       "  </thead>\n",
       "  <tbody>\n",
       "    <tr>\n",
       "      <th>0</th>\n",
       "      <td>BWH</td>\n",
       "      <td>CHR</td>\n",
       "      <td>29.0</td>\n",
       "      <td>1905-03-30</td>\n",
       "    </tr>\n",
       "    <tr>\n",
       "      <th>1</th>\n",
       "      <td>BWH</td>\n",
       "      <td>CHR</td>\n",
       "      <td>30.0</td>\n",
       "      <td>1903-06-23</td>\n",
       "    </tr>\n",
       "    <tr>\n",
       "      <th>2</th>\n",
       "      <td>BWH</td>\n",
       "      <td>HC</td>\n",
       "      <td>21.0</td>\n",
       "      <td>1891-10-09</td>\n",
       "    </tr>\n",
       "    <tr>\n",
       "      <th>3</th>\n",
       "      <td>BWH</td>\n",
       "      <td>HC</td>\n",
       "      <td>32.0</td>\n",
       "      <td>1904-11-12</td>\n",
       "    </tr>\n",
       "    <tr>\n",
       "      <th>4</th>\n",
       "      <td>BWH</td>\n",
       "      <td>CHR</td>\n",
       "      <td>33.0</td>\n",
       "      <td>1918-10-24</td>\n",
       "    </tr>\n",
       "  </tbody>\n",
       "</table>\n",
       "</div>"
      ],
      "text/plain": [
       "  site ID cohort   age date of consent\n",
       "0     BWH    CHR  29.0      1905-03-30\n",
       "1     BWH    CHR  30.0      1903-06-23\n",
       "2     BWH     HC  21.0      1891-10-09\n",
       "3     BWH     HC  32.0      1904-11-12\n",
       "4     BWH    CHR  33.0      1918-10-24"
      ]
     },
     "execution_count": 121,
     "metadata": {},
     "output_type": "execute_result"
    }
   ],
   "source": [
    "# Save enroll_data_anon_SY.csv\n",
    "\n",
    "enrollmentData_anon = enrollmentData.drop(columns=['date of consent', 'birth date','days_offset']).rename(columns = {'date_of_consent_anon':'date of consent'})\n",
    "enrollmentData_anon.to_csv('enroll_data_anon_SY.csv')\n",
    "enrollmentData_anon.head()"
   ]
  },
  {
   "cell_type": "code",
   "execution_count": 124,
   "metadata": {},
   "outputs": [
    {
     "data": {
      "text/plain": [
       "0    41915\n",
       "1    42562\n",
       "2    46836\n",
       "3    42054\n",
       "4    36960\n",
       "Name: days_offset, dtype: int64"
      ]
     },
     "execution_count": 124,
     "metadata": {},
     "output_type": "execute_result"
    }
   ],
   "source": [
    "# Save enroll_data_offset_SY.csv\n",
    "enrollmentData_offset = enrollmentData['days_offset']\n",
    "enrollmentData_offset.to_csv('enroll_data_offset_SY.csv', columns = ['days_offset'])\n",
    "enrollmentData_offset.head()"
   ]
  },
  {
   "cell_type": "markdown",
   "metadata": {},
   "source": [
    "#### Task 1: Upload"
   ]
  },
  {
   "cell_type": "code",
   "execution_count": 139,
   "metadata": {},
   "outputs": [
    {
     "name": "stdout",
     "output_type": "stream",
     "text": [
      "Total elapsed time for upload 233009 bytes: 0.966\n",
      "uploaded as b'enroll_data_anon_SY.csv'\n",
      "Total elapsed time for upload 86309 bytes: 0.642\n",
      "uploaded as b'enroll_data_offset_SY.csv'\n"
     ]
    },
    {
     "data": {
      "text/plain": [
       "FileMetadata(client_modified=datetime.datetime(2022, 9, 19, 3, 4, 57), content_hash='8866a622fd5305019358657e5177517585a43f91275483f17159a22c6e648c96', export_info=NOT_SET, file_lock_info=NOT_SET, has_explicit_shared_members=NOT_SET, id='id:9wk-zqcqukAAAAAAAAABRw', is_downloadable=True, media_info=NOT_SET, name='enroll_data_offset_SY.csv', parent_shared_folder_id='9340197792', path_display='/recruitment_project/enroll_data_offset_SY.csv', path_lower='/recruitment_project/enroll_data_offset_sy.csv', preview_url=NOT_SET, property_groups=NOT_SET, rev='015e8ff3435eda3000000022cb81ba0', server_modified=datetime.datetime(2022, 9, 19, 3, 21, 13), sharing_info=FileSharingInfo(modified_by='dbid:AAAGGJWE6E8XzEVUTRJVRFMJByg6qL9w-Us', parent_shared_folder_id='9340197792', read_only=False), size=86309, symlink_info=NOT_SET)"
      ]
     },
     "execution_count": 139,
     "metadata": {},
     "output_type": "execute_result"
    }
   ],
   "source": [
    "\n",
    "# Upload anonymized enrollment data\n",
    "updown.upload(dbx, 'enroll_data_anon_SY.csv', '/recruitment_project','','enroll_data_anon_SY.csv', overwrite = True)\n",
    "# Upload offsets\n",
    "updown.upload(dbx, 'enroll_data_offset_SY.csv', '/recruitment_project','','enroll_data_offset_SY.csv', overwrite = True)\n"
   ]
  },
  {
   "cell_type": "markdown",
   "metadata": {},
   "source": [
    "### Task 2 "
   ]
  },
  {
   "cell_type": "markdown",
   "metadata": {},
   "source": [
    "#### Task 2, Workflow 1: Registration using ANTs\n",
    "\n",
    " See shell interface to quickly run the antsRegistration command: https://github.com/ANTsX/ANTs/blob/master/Scripts/newAntsExample.sh\n",
    "\n",
    "The command used for registration:\n",
    "\n",
    "`ants_registration.sh atlas-T1w.nii.gz given-T1w.nii.gz fastfortesting`\n"
   ]
  },
  {
   "cell_type": "code",
   "execution_count": 93,
   "metadata": {},
   "outputs": [
    {
     "name": "stdout",
     "output_type": "stream",
     "text": [
      "Size of T1 image volume: (182, 218, 182)\n",
      "Size of the atlas label volume: (182, 218, 182)\n"
     ]
    }
   ],
   "source": [
    "# Verify size of the T1 image. Further verfication was done by overlaying the\n",
    "# atlas labels on top of the registered image using freeview.\n",
    "T1Image_path: Path = Path('../scans/atlas-T1w_fixed_given-T1w_moving_setting_is_fastfortesting_warped.nii.gz')\n",
    "atlasLabels_path: Path = Path('../scans/atlas-integer-labels.nii.gz')\n",
    "\n",
    "T1_img = nib.load(T1Image_path)\n",
    "T1_img_data = T1_img.get_fdata()\n",
    "\n",
    "label_img = nib.load(atlasLabels_path)\n",
    "label_img_data = label_img.get_fdata()\n",
    "print(f'Size of T1 image volume: {T1_img_data.shape}')\n",
    "print(f'Size of the atlas label volume: {label_img_data.shape}')\n"
   ]
  },
  {
   "cell_type": "markdown",
   "metadata": {},
   "source": [
    "#### Task 2, Workflow 2: Compute volumes for each label"
   ]
  },
  {
   "cell_type": "code",
   "execution_count": 90,
   "metadata": {},
   "outputs": [
    {
     "data": {
      "text/html": [
       "<div>\n",
       "<style scoped>\n",
       "    .dataframe tbody tr th:only-of-type {\n",
       "        vertical-align: middle;\n",
       "    }\n",
       "\n",
       "    .dataframe tbody tr th {\n",
       "        vertical-align: top;\n",
       "    }\n",
       "\n",
       "    .dataframe thead th {\n",
       "        text-align: right;\n",
       "    }\n",
       "</style>\n",
       "<table border=\"1\" class=\"dataframe\">\n",
       "  <thead>\n",
       "    <tr style=\"text-align: right;\">\n",
       "      <th></th>\n",
       "      <th>LabelInteger</th>\n",
       "      <th>Volume</th>\n",
       "    </tr>\n",
       "  </thead>\n",
       "  <tbody>\n",
       "    <tr>\n",
       "      <th>0</th>\n",
       "      <td>0</td>\n",
       "      <td>6741512</td>\n",
       "    </tr>\n",
       "    <tr>\n",
       "      <th>1</th>\n",
       "      <td>1</td>\n",
       "      <td>15644</td>\n",
       "    </tr>\n",
       "    <tr>\n",
       "      <th>2</th>\n",
       "      <td>2</td>\n",
       "      <td>1500</td>\n",
       "    </tr>\n",
       "    <tr>\n",
       "      <th>3</th>\n",
       "      <td>3</td>\n",
       "      <td>8851</td>\n",
       "    </tr>\n",
       "    <tr>\n",
       "      <th>4</th>\n",
       "      <td>4</td>\n",
       "      <td>13711</td>\n",
       "    </tr>\n",
       "  </tbody>\n",
       "</table>\n",
       "</div>"
      ],
      "text/plain": [
       "   LabelInteger   Volume\n",
       "0             0  6741512\n",
       "1             1    15644\n",
       "2             2     1500\n",
       "3             3     8851\n",
       "4             4    13711"
      ]
     },
     "execution_count": 90,
     "metadata": {},
     "output_type": "execute_result"
    }
   ],
   "source": [
    "df = pd.DataFrame(columns=['LabelInteger', 'Volume'])\n",
    "# df\n",
    "labels = np.unique(label_img_data).astype(int)\n",
    "\n",
    "for label in labels:\n",
    "    label_mask = label_img_data==label\n",
    "    multipliedMatrix = label_mask*T1_img_data\n",
    "    unique, counts = np.unique(multipliedMatrix!=0, return_counts = True)\n",
    "    df.loc[len(df)] = [label, counts[1]]\n",
    "    \n",
    "df.head()"
   ]
  },
  {
   "cell_type": "markdown",
   "metadata": {},
   "source": [
    "#### Task 2, Workflow 3 and 4: Match labels and save to CSV"
   ]
  },
  {
   "cell_type": "code",
   "execution_count": 91,
   "metadata": {},
   "outputs": [
    {
     "data": {
      "text/html": [
       "<div>\n",
       "<style scoped>\n",
       "    .dataframe tbody tr th:only-of-type {\n",
       "        vertical-align: middle;\n",
       "    }\n",
       "\n",
       "    .dataframe tbody tr th {\n",
       "        vertical-align: top;\n",
       "    }\n",
       "\n",
       "    .dataframe thead th {\n",
       "        text-align: right;\n",
       "    }\n",
       "</style>\n",
       "<table border=\"1\" class=\"dataframe\">\n",
       "  <thead>\n",
       "    <tr style=\"text-align: right;\">\n",
       "      <th></th>\n",
       "      <th>LabelInteger</th>\n",
       "      <th>Volume</th>\n",
       "      <th>Name</th>\n",
       "    </tr>\n",
       "  </thead>\n",
       "  <tbody>\n",
       "    <tr>\n",
       "      <th>0</th>\n",
       "      <td>0</td>\n",
       "      <td>6741512</td>\n",
       "      <td>NaN</td>\n",
       "    </tr>\n",
       "    <tr>\n",
       "      <th>1</th>\n",
       "      <td>1</td>\n",
       "      <td>15644</td>\n",
       "      <td>Left-Cerebral-Exterior</td>\n",
       "    </tr>\n",
       "    <tr>\n",
       "      <th>2</th>\n",
       "      <td>2</td>\n",
       "      <td>1500</td>\n",
       "      <td>Left-Cerebral-White-Matter</td>\n",
       "    </tr>\n",
       "    <tr>\n",
       "      <th>3</th>\n",
       "      <td>3</td>\n",
       "      <td>8851</td>\n",
       "      <td>Left-Cerebral-Cortex</td>\n",
       "    </tr>\n",
       "    <tr>\n",
       "      <th>4</th>\n",
       "      <td>4</td>\n",
       "      <td>13711</td>\n",
       "      <td>Left-Lateral-Ventricle</td>\n",
       "    </tr>\n",
       "  </tbody>\n",
       "</table>\n",
       "</div>"
      ],
      "text/plain": [
       "   LabelInteger   Volume                        Name\n",
       "0             0  6741512                         NaN\n",
       "1             1    15644      Left-Cerebral-Exterior\n",
       "2             2     1500  Left-Cerebral-White-Matter\n",
       "3             3     8851        Left-Cerebral-Cortex\n",
       "4             4    13711      Left-Lateral-Ventricle"
      ]
     },
     "execution_count": 91,
     "metadata": {},
     "output_type": "execute_result"
    }
   ],
   "source": [
    "# Extracting freesurfer labels:\n",
    "fs_labels = pd.read_csv('freesurfer_ROI_labels.csv', header = 1, names = ['raw','LabelInteger', 'Name', 'R', \"G\", \"B\", 'A']).drop(columns = ['raw', 'R', 'G', 'B', 'A'])\n",
    "\n",
    "# Left join with labels\n",
    "ROI_volume = pd.merge(df, fs_labels, how = 'left', on = 'LabelInteger')\n",
    "\n",
    "# Write to CSV file\n",
    "ROI_volume.to_csv('ROI_volume.csv', na_rep = \"None\", index = False)\n",
    "ROI_volume.head()"
   ]
  },
  {
   "cell_type": "markdown",
   "metadata": {},
   "source": [
    "####  Task 2, Workflow 5: Upload to dropbox"
   ]
  },
  {
   "cell_type": "code",
   "execution_count": 145,
   "metadata": {},
   "outputs": [
    {
     "name": "stdout",
     "output_type": "stream",
     "text": [
      "Total elapsed time for upload 1204 bytes: 0.866\n",
      "uploaded as b'ROI_volume_SY.csv'\n"
     ]
    },
    {
     "data": {
      "text/plain": [
       "FileMetadata(client_modified=datetime.datetime(2022, 9, 19, 2, 32, 21), content_hash='0b6e67849f0599ccd2b995aa810ba4b8b95a60f9437b53c44d57c09ce661b794', export_info=NOT_SET, file_lock_info=NOT_SET, has_explicit_shared_members=NOT_SET, id='id:9wk-zqcqukAAAAAAAAABSA', is_downloadable=True, media_info=NOT_SET, name='ROI_volume_SY.csv', parent_shared_folder_id='9340197792', path_display='/recruitment_project/ROI_volume_SY.csv', path_lower='/recruitment_project/roi_volume_sy.csv', preview_url=NOT_SET, property_groups=NOT_SET, rev='015e907c79d2cec000000022cb81ba0', server_modified=datetime.datetime(2022, 9, 19, 13, 35, 6), sharing_info=FileSharingInfo(modified_by='dbid:AAAGGJWE6E8XzEVUTRJVRFMJByg6qL9w-Us', parent_shared_folder_id='9340197792', read_only=False), size=1204, symlink_info=NOT_SET)"
      ]
     },
     "execution_count": 145,
     "metadata": {},
     "output_type": "execute_result"
    }
   ],
   "source": [
    "updown.upload(dbx, 'ROI_volume.csv', '/recruitment_project','','ROI_volume_SY.csv', overwrite = True)"
   ]
  }
 ],
 "metadata": {
  "kernelspec": {
   "display_name": "Python 3 (ipykernel)",
   "language": "python",
   "name": "python3"
  },
  "language_info": {
   "codemirror_mode": {
    "name": "ipython",
    "version": 3
   },
   "file_extension": ".py",
   "mimetype": "text/x-python",
   "name": "python",
   "nbconvert_exporter": "python",
   "pygments_lexer": "ipython3",
   "version": "3.8.3"
  },
  "vscode": {
   "interpreter": {
    "hash": "b47ccf7d94afda501d426db0e5d457569cebc1407f9908246d6a9dbf5373f00e"
   }
  }
 },
 "nbformat": 4,
 "nbformat_minor": 2
}
